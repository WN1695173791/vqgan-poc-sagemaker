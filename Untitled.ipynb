{
 "cells": [
  {
   "cell_type": "code",
   "execution_count": 1,
   "id": "4d0164dd",
   "metadata": {},
   "outputs": [
    {
     "name": "stdout",
     "output_type": "stream",
     "text": [
      "Collecting omegaconf==2.0.0\n",
      "  Downloading omegaconf-2.0.0-py3-none-any.whl (33 kB)\n",
      "Requirement already satisfied: typing-extensions in /home/ec2-user/anaconda3/envs/python3/lib/python3.6/site-packages (from omegaconf==2.0.0) (3.7.4.3)\n",
      "Requirement already satisfied: dataclasses in /home/ec2-user/anaconda3/envs/python3/lib/python3.6/site-packages (from omegaconf==2.0.0) (0.8)\n",
      "Requirement already satisfied: PyYAML in /home/ec2-user/anaconda3/envs/python3/lib/python3.6/site-packages (from omegaconf==2.0.0) (5.4.1)\n",
      "Installing collected packages: omegaconf\n",
      "Successfully installed omegaconf-2.0.0\n"
     ]
    }
   ],
   "source": [
    "!pip install omegaconf==2.0.0"
   ]
  },
  {
   "cell_type": "code",
   "execution_count": 2,
   "id": "87a1ca76",
   "metadata": {},
   "outputs": [],
   "source": [
    "from omegaconf import OmegaConf"
   ]
  },
  {
   "cell_type": "code",
   "execution_count": 13,
   "id": "1d15ff5a",
   "metadata": {},
   "outputs": [],
   "source": [
    "base=['/home/ec2-user/SageMaker/vqgan/taming-transformers/configs/faceshq_vqgan.yaml']"
   ]
  },
  {
   "cell_type": "code",
   "execution_count": 14,
   "id": "87708d0d",
   "metadata": {},
   "outputs": [],
   "source": [
    "configs = [OmegaConf.load(cfg) for cfg in base]"
   ]
  },
  {
   "cell_type": "code",
   "execution_count": 16,
   "id": "770e9eb4",
   "metadata": {},
   "outputs": [
    {
     "ename": "NameError",
     "evalue": "name 'unknown' is not defined",
     "output_type": "error",
     "traceback": [
      "\u001b[0;31m---------------------------------------------------------------------------\u001b[0m",
      "\u001b[0;31mNameError\u001b[0m                                 Traceback (most recent call last)",
      "\u001b[0;32m<ipython-input-16-7a9685caf0b5>\u001b[0m in \u001b[0;36m<module>\u001b[0;34m\u001b[0m\n\u001b[0;32m----> 1\u001b[0;31m \u001b[0mcli\u001b[0m \u001b[0;34m=\u001b[0m \u001b[0mOmegaConf\u001b[0m\u001b[0;34m.\u001b[0m\u001b[0mfrom_dotlist\u001b[0m\u001b[0;34m(\u001b[0m\u001b[0munknown\u001b[0m\u001b[0;34m)\u001b[0m\u001b[0;34m\u001b[0m\u001b[0;34m\u001b[0m\u001b[0m\n\u001b[0m\u001b[1;32m      2\u001b[0m \u001b[0mconfig\u001b[0m \u001b[0;34m=\u001b[0m \u001b[0mOmegaConf\u001b[0m\u001b[0;34m.\u001b[0m\u001b[0mmerge\u001b[0m\u001b[0;34m(\u001b[0m\u001b[0;34m*\u001b[0m\u001b[0mconfigs\u001b[0m\u001b[0;34m,\u001b[0m \u001b[0mcli\u001b[0m\u001b[0;34m)\u001b[0m\u001b[0;34m\u001b[0m\u001b[0;34m\u001b[0m\u001b[0m\n\u001b[1;32m      3\u001b[0m \u001b[0mlightning_config\u001b[0m \u001b[0;34m=\u001b[0m \u001b[0mconfig\u001b[0m\u001b[0;34m.\u001b[0m\u001b[0mpop\u001b[0m\u001b[0;34m(\u001b[0m\u001b[0;34m\"lightning\"\u001b[0m\u001b[0;34m,\u001b[0m \u001b[0mOmegaConf\u001b[0m\u001b[0;34m.\u001b[0m\u001b[0mcreate\u001b[0m\u001b[0;34m(\u001b[0m\u001b[0;34m)\u001b[0m\u001b[0;34m)\u001b[0m\u001b[0;34m\u001b[0m\u001b[0;34m\u001b[0m\u001b[0m\n\u001b[1;32m      4\u001b[0m \u001b[0;31m# merge trainer cli with config\u001b[0m\u001b[0;34m\u001b[0m\u001b[0;34m\u001b[0m\u001b[0;34m\u001b[0m\u001b[0m\n\u001b[1;32m      5\u001b[0m \u001b[0mtrainer_config\u001b[0m \u001b[0;34m=\u001b[0m \u001b[0mlightning_config\u001b[0m\u001b[0;34m.\u001b[0m\u001b[0mget\u001b[0m\u001b[0;34m(\u001b[0m\u001b[0;34m\"trainer\"\u001b[0m\u001b[0;34m,\u001b[0m \u001b[0mOmegaConf\u001b[0m\u001b[0;34m.\u001b[0m\u001b[0mcreate\u001b[0m\u001b[0;34m(\u001b[0m\u001b[0;34m)\u001b[0m\u001b[0;34m)\u001b[0m\u001b[0;34m\u001b[0m\u001b[0;34m\u001b[0m\u001b[0m\n",
      "\u001b[0;31mNameError\u001b[0m: name 'unknown' is not defined"
     ]
    }
   ],
   "source": [
    "cli = OmegaConf.from_dotlist(unknown)\n",
    "config = OmegaConf.merge(*configs, cli)\n",
    "lightning_config = config.pop(\"lightning\", OmegaConf.create())\n",
    "# merge trainer cli with config\n",
    "trainer_config = lightning_config.get(\"trainer\", OmegaConf.create())\n",
    "# default to ddp\n",
    "trainer_config[\"distributed_backend\"] = \"ddp\"\n",
    "for k in nondefault_trainer_args(opt):\n",
    "    trainer_config[k] = getattr(opt, k)\n",
    "if not \"gpus\" in trainer_config:\n",
    "    del trainer_config[\"distributed_backend\"]\n",
    "    cpu = True\n",
    "else:\n",
    "    gpuinfo = trainer_config[\"gpus\"]\n",
    "    print(f\"Running on GPUs {gpuinfo}\")\n",
    "    cpu = False\n",
    "trainer_opt = argparse.Namespace(**trainer_config)\n",
    "lightning_config.trainer = trainer_config"
   ]
  },
  {
   "cell_type": "code",
   "execution_count": 55,
   "id": "13ebdfd8",
   "metadata": {},
   "outputs": [],
   "source": [
    "idx = ''\n",
    "for i in range(8):\n",
    "    if i == 0:\n",
    "        idx = '0'\n",
    "    else:\n",
    "        idx = idx + ','+str(i)"
   ]
  },
  {
   "cell_type": "code",
   "execution_count": 1,
   "id": "87d91b22",
   "metadata": {},
   "outputs": [],
   "source": [
    "for i in range(8):\n",
    "    idx = '0' if i == 0 else idx + ','+str(i)"
   ]
  },
  {
   "cell_type": "code",
   "execution_count": 2,
   "id": "2dcd75c9",
   "metadata": {},
   "outputs": [
    {
     "data": {
      "text/plain": [
       "'0,1,2,3,4,5,6,7'"
      ]
     },
     "execution_count": 2,
     "metadata": {},
     "output_type": "execute_result"
    }
   ],
   "source": [
    "idx"
   ]
  },
  {
   "cell_type": "code",
   "execution_count": 34,
   "id": "3e830ca4",
   "metadata": {},
   "outputs": [],
   "source": [
    "test = '0, 1, 2, 3, 4, 5, 6, 7'"
   ]
  },
  {
   "cell_type": "code",
   "execution_count": 57,
   "id": "c2b39a2b",
   "metadata": {},
   "outputs": [
    {
     "data": {
      "text/plain": [
       "['0', '1', '2', '3', '4', '5', '6', '7']"
      ]
     },
     "execution_count": 57,
     "metadata": {},
     "output_type": "execute_result"
    }
   ],
   "source": [
    "idx.strip(\",\").split(',')"
   ]
  },
  {
   "cell_type": "code",
   "execution_count": 26,
   "id": "01093baa",
   "metadata": {},
   "outputs": [
    {
     "ename": "AttributeError",
     "evalue": "'list' object has no attribute 'strip'",
     "output_type": "error",
     "traceback": [
      "\u001b[0;31m---------------------------------------------------------------------------\u001b[0m",
      "\u001b[0;31mAttributeError\u001b[0m                            Traceback (most recent call last)",
      "\u001b[0;32m<ipython-input-26-b3ac7c163218>\u001b[0m in \u001b[0;36m<module>\u001b[0;34m\u001b[0m\n\u001b[0;32m----> 1\u001b[0;31m \u001b[0mlen\u001b[0m\u001b[0;34m(\u001b[0m\u001b[0;34m[\u001b[0m\u001b[0;36m0\u001b[0m\u001b[0;34m,\u001b[0m \u001b[0;36m1\u001b[0m\u001b[0;34m,\u001b[0m \u001b[0;36m2\u001b[0m\u001b[0;34m,\u001b[0m \u001b[0;36m3\u001b[0m\u001b[0;34m,\u001b[0m \u001b[0;36m4\u001b[0m\u001b[0;34m,\u001b[0m \u001b[0;36m5\u001b[0m\u001b[0;34m,\u001b[0m \u001b[0;36m6\u001b[0m\u001b[0;34m,\u001b[0m \u001b[0;36m7\u001b[0m\u001b[0;34m]\u001b[0m\u001b[0;34m.\u001b[0m\u001b[0mstrip\u001b[0m\u001b[0;34m(\u001b[0m\u001b[0;34m\",\"\u001b[0m\u001b[0;34m)\u001b[0m\u001b[0;34m.\u001b[0m\u001b[0msplit\u001b[0m\u001b[0;34m(\u001b[0m\u001b[0;34m','\u001b[0m\u001b[0;34m)\u001b[0m\u001b[0;34m)\u001b[0m\u001b[0;34m\u001b[0m\u001b[0;34m\u001b[0m\u001b[0m\n\u001b[0m",
      "\u001b[0;31mAttributeError\u001b[0m: 'list' object has no attribute 'strip'"
     ]
    }
   ],
   "source": [
    "\n",
    "len([0, 1, 2, 3, 4, 5, 6, 7].strip(\",\").split(','))\n"
   ]
  },
  {
   "cell_type": "code",
   "execution_count": 28,
   "id": "5f1b7bcb",
   "metadata": {},
   "outputs": [],
   "source": [
    "import os"
   ]
  },
  {
   "cell_type": "code",
   "execution_count": 32,
   "id": "72441701",
   "metadata": {},
   "outputs": [
    {
     "data": {
      "text/plain": [
       "''"
      ]
     },
     "execution_count": 32,
     "metadata": {},
     "output_type": "execute_result"
    }
   ],
   "source": [
    "os.environ.get('MASTER_ADDR', '127.0.0.1')\n",
    "# os.environ.get('MASTER_PORT', str(find_free_network_port()))"
   ]
  },
  {
   "cell_type": "code",
   "execution_count": 31,
   "id": "dc09328b",
   "metadata": {},
   "outputs": [],
   "source": [
    "os.environ['MASTER_ADDR']=''"
   ]
  },
  {
   "cell_type": "code",
   "execution_count": null,
   "id": "8f198fa9",
   "metadata": {},
   "outputs": [],
   "source": [
    "    /CUB_200_2011/images/001.Black_footed_Albatross/Black_Footed_Albatross_0056_796078.jpg"
   ]
  },
  {
   "cell_type": "code",
   "execution_count": 1,
   "id": "371beb3b",
   "metadata": {},
   "outputs": [],
   "source": [
    "import glob"
   ]
  },
  {
   "cell_type": "code",
   "execution_count": 5,
   "id": "acf1f9a6",
   "metadata": {},
   "outputs": [
    {
     "data": {
      "text/plain": [
       "['/home/ec2-user/SageMaker/dataset/BIRDS/CUB_200_2011/images/001.Black_footed_Albatross/Black_Footed_Albatross_0056_796078.jpg']"
      ]
     },
     "execution_count": 5,
     "metadata": {},
     "output_type": "execute_result"
    }
   ],
   "source": [
    "glob.glob('/home/ec2-user/SageMaker/dataset/BIRDS/CUB_200_2011/images/001.Black_footed_Albatross/Black_Footed_Albatross_0056_796078.jpg')"
   ]
  },
  {
   "cell_type": "code",
   "execution_count": null,
   "id": "1cf2cb4d",
   "metadata": {},
   "outputs": [],
   "source": []
  }
 ],
 "metadata": {
  "kernelspec": {
   "display_name": "conda_python3",
   "language": "python",
   "name": "conda_python3"
  },
  "language_info": {
   "codemirror_mode": {
    "name": "ipython",
    "version": 3
   },
   "file_extension": ".py",
   "mimetype": "text/x-python",
   "name": "python",
   "nbconvert_exporter": "python",
   "pygments_lexer": "ipython3",
   "version": "3.6.13"
  }
 },
 "nbformat": 4,
 "nbformat_minor": 5
}
